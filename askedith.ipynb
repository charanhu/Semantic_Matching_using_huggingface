{
 "cells": [
  {
   "cell_type": "code",
   "execution_count": null,
   "metadata": {},
   "outputs": [],
   "source": [
    "import http.client\n",
    "\n",
    "conn = http.client.HTTPSConnection(\"api.askedith.ai\")\n",
    "\n",
    "payload = '{\"question\": \"What is the average sales?\", \"data_source_id\": \"1234567890\", \"tables\": [\"table_1\", \"table_2\"], \"datasets\": [\"dataset_1\", \"dataset_2\"]}'\n",
    "\n",
    "headers = { 'Authorization': \"\" }\n",
    "\n",
    "conn.request(\"POST\", \"/api/query\", payload, headers)\n",
    "\n",
    "res = conn.getresponse()\n",
    "\n",
    "data = res.read()\n",
    "\n",
    "print(data.decode(\"utf-8\"))"
   ]
  },
  {
   "cell_type": "code",
   "execution_count": 10,
   "metadata": {},
   "outputs": [
    {
     "name": "stdout",
     "output_type": "stream",
     "text": [
      "{\"error\": \"Please upgrade your subscription or contact support@askedith.ai to get access to the API!\"}\n"
     ]
    }
   ],
   "source": [
    "import http.client\n",
    "\n",
    "conn = http.client.HTTPSConnection(\"api.askedith.ai\")\n",
    "\n",
    "payload = r'{\"question\": \"What is the average sales?\", \"files\": { \"train.csv\": \"column1,column2,column3\"}, \"auto_run\": false}'\n",
    "\n",
    "headers = { 'Authorization': \"Bearer \" }\n",
    "\n",
    "conn.request(\"POST\", \"/api/query/local\", payload, headers)\n",
    "\n",
    "res = conn.getresponse()\n",
    "data = res.read()\n",
    "\n",
    "print(data.decode(\"utf-8\"))"
   ]
  },
  {
   "cell_type": "code",
   "execution_count": 8,
   "metadata": {},
   "outputs": [
    {
     "name": "stdout",
     "output_type": "stream",
     "text": [
      "Please upgrade your subscription or contact support@askedith.ai to get access to the API!\n"
     ]
    }
   ],
   "source": [
    "import http.client\n",
    "\n",
    "conn = http.client.HTTPSConnection(\"api.askedith.ai\")\n",
    "\n",
    "headers = { 'Authorization': \"Bearer \" }\n",
    "\n",
    "conn.request(\"GET\", \"/api/data-sources\", \"\", headers)\n",
    "\n",
    "res = conn.getresponse()\n",
    "data = res.read()\n",
    "\n",
    "print(data.decode(\"utf-8\"))"
   ]
  },
  {
   "cell_type": "code",
   "execution_count": 2,
   "metadata": {},
   "outputs": [
    {
     "name": "stdout",
     "output_type": "stream",
     "text": [
      "Index(['Row ID', 'Order ID', 'Order Date', 'Ship Date', 'Ship Mode',\n",
      "       'Customer ID', 'Customer Name', 'Segment', 'Country', 'City', 'State',\n",
      "       'Postal Code', 'Region', 'Product ID', 'Category', 'Sub-Category',\n",
      "       'Product Name', 'Sales'],\n",
      "      dtype='object')\n"
     ]
    }
   ],
   "source": [
    "import pandas as pd\n",
    "df  = pd.read_csv(\"train.csv\")\n",
    "\n",
    "# print column names of df\n",
    "print(df.columns)"
   ]
  },
  {
   "cell_type": "code",
   "execution_count": null,
   "metadata": {},
   "outputs": [],
   "source": [
    "with open('generated_queries_all.tsv', 'w') as fOut:\n",
    "    for start_idx in tqdm(range(0, len(paragraphs), batch_size)):\n",
    "        sub_paragraphs = paragraphs[start_idx:start_idx+batch_size]\n",
    "        inputs = tokenizer.prepare_seq2seq_batch(sub_paragraphs, max_length=max_length_paragraph, truncation=True, return_tensors='pt').to(device)\n",
    "        outputs = model.generate(\n",
    "            **inputs,\n",
    "            max_length=max_length_query,\n",
    "            do_sample=True,\n",
    "            top_p=0.95,\n",
    "            num_return_sequences=num_queries)\n",
    "\n",
    "        for idx, out in enumerate(outputs):\n",
    "            query = tokenizer.decode(out, skip_special_tokens=True)\n",
    "            query = _removeNonAscii(query)\n",
    "            para = sub_paragraphs[int(idx/num_queries)]\n",
    "            para = _removeNonAscii(para)\n",
    "            fOut.write(\"{}\\t{}\\n\".format(query.replace(\"\\t\", \" \").strip(), para.replace(\"\\t\", \" \").strip()))"
   ]
  }
 ],
 "metadata": {
  "kernelspec": {
   "display_name": "Python 3",
   "language": "python",
   "name": "python3"
  },
  "language_info": {
   "codemirror_mode": {
    "name": "ipython",
    "version": 3
   },
   "file_extension": ".py",
   "mimetype": "text/x-python",
   "name": "python",
   "nbconvert_exporter": "python",
   "pygments_lexer": "ipython3",
   "version": "3.10.7 (tags/v3.10.7:6cc6b13, Sep  5 2022, 14:08:36) [MSC v.1933 64 bit (AMD64)]"
  },
  "orig_nbformat": 4,
  "vscode": {
   "interpreter": {
    "hash": "c1f682f24181e02bec5294285fb1c175cb07785bd2390f987c80770a76d37385"
   }
  }
 },
 "nbformat": 4,
 "nbformat_minor": 2
}
