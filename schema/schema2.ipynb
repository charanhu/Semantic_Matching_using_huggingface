{
 "cells": [
  {
   "cell_type": "code",
   "execution_count": 9,
   "metadata": {},
   "outputs": [
    {
     "name": "stdout",
     "output_type": "stream",
     "text": [
      "train: Row ID, Order ID, Order Date, Ship Date, Ship Mode, Customer ID, Customer Name, Segment, Country, City, State, Postal Code, Region, Product ID, Category, Sub-Category, Product Name, Sales, \n",
      "Row ID: 1, 2, 3, 4, 5, 6, 7, 8, 9, 10,  | Order ID: CA-2017-152156, CA-2017-138688, US-2016-108966, CA-2015-115812, CA-2018-114412, CA-2017-161389, US-2016-118983, CA-2015-105893, CA-2015-167164, CA-2015-143336,  | Order Date: 08/11/2017, 12/06/2017, 11/10/2016, 09/06/2015, 15/04/2018, 05/12/2017, 22/11/2016, 11/11/2015, 13/05/2015, 27/08/2015,  | Ship Date: 11/11/2017, 16/06/2017, 18/10/2016, 14/06/2015, 20/04/2018, 10/12/2017, 26/11/2016, 18/11/2015, 15/05/2015, 01/09/2015,  | Ship Mode: Second Class, Standard Class, First Class, Same Day,  | Customer ID: CG-12520, DV-13045, SO-20335, BH-11710, AA-10480, IM-15070, HP-14815, PK-19075, AG-10270, ZD-21925,  | Customer Name: Claire Gute, Darrin Van Huff, Sean O'Donnell, Brosina Hoffman, Andrew Allen, Irene Maddox, Harold Pawlan, Pete Kriz, Alejandro Grove, Zuschuss Donatelli,  | Segment: Consumer, Corporate, Home Office,  | Country: United States,  | City: Henderson, Los Angeles, Fort Lauderdale, Concord, Seattle, Fort Worth, Madison, West Jordan, San Francisco, Fremont,  | State: Kentucky, California, Florida, North Carolina, Washington, Texas, Wisconsin, Utah, Nebraska, Pennsylvania,  | Postal Code: 42420, 90036, 33311, 90032, 28027, 98103, 76106, 53711, 84084, 94109,  | Region: South, West, Central, East,  | Product ID: FUR-BO-10001798, FUR-CH-10000454, OFF-LA-10000240, FUR-TA-10000577, OFF-ST-10000760, FUR-FU-10001487, OFF-AR-10002833, TEC-PH-10002275, OFF-BI-10003910, OFF-AP-10002892,  | Category: Furniture, Office Supplies, Technology,  | Sub-Category: Bookcases, Chairs, Labels, Tables, Storage, Furnishings, Art, Phones, Binders, Appliances,  | Product Name: Bush Somerset Collection Bookcase, Hon Deluxe Fabric Upholstered Stacking Chairs, Rounded Back, Self-Adhesive Address Labels for Typewriters by Universal, Bretford CR4500 Series Slim Rectangular Table, Eldon Fold 'N Roll Cart System, Eldon Expressions Wood and Plastic Desk Accessories, Cherry Wood, Newell 322, Mitel 5320 IP Phone VoIP phone, DXL Angle-View Binders with Locking Rings by Samsill, Belkin F5C206VTEL 6 Outlet Surge,  | Sales: 261.96, 731.94, 14.62, 957.5775, 22.368, 48.86, 7.28, 907.152, 18.504, 114.9,  | \n"
     ]
    }
   ],
   "source": [
    "import json\n",
    "import sqlite3\n",
    "\n",
    "# Connect to the database\n",
    "conn = sqlite3.connect('data.sqlite')\n",
    "\n",
    "# Get the cursor\n",
    "cursor = conn.cursor()\n",
    "\n",
    "# function to get the schema in json format with maximum 10 distinct values\n",
    "def get_schema(conn):\n",
    "    cursor = conn.cursor()\n",
    "    cursor.execute(\"SELECT name FROM sqlite_master WHERE type='table';\")\n",
    "    tables = cursor.fetchall()\n",
    "    schema = {}\n",
    "    for table in tables:\n",
    "        table_name = table[0]\n",
    "        cursor.execute(\"PRAGMA table_info({})\".format(table_name))\n",
    "        columns = cursor.fetchall()\n",
    "        schema[table_name] = {}\n",
    "        for column in columns:\n",
    "            column_name = column[1]\n",
    "            cursor.execute('SELECT DISTINCT \"{}\" FROM \"{}\" LIMIT 10'.format(column_name, table_name))\n",
    "            distinct_values = cursor.fetchall()\n",
    "            # convert to single list\n",
    "            distinct_values = [item for sublist in distinct_values for item in sublist]\n",
    "            schema[table_name][column_name] = distinct_values\n",
    "    return schema\n",
    "\n",
    "# {\"train\": {\"Row ID\": [\"1\", \"2\", \"3\", \"4\", \"5\", \"6\", \"7\", \"8\", \"9\", \"10\"], \"Order ID\": [\"CA-2017-152156\", \"CA-2017-138688\", \"US-2016-108966\", \"CA-2015-115812\", \"CA-2018-114412\", \"CA-2017-161389\", \"US-2016-118983\", \"CA-2015-105893\", \"CA-2015-167164\", \"CA-2015-143336\"], \"Order Date\": [\"08/11/2017\", \"12/06/2017\", \"11/10/2016\", \"09/06/2015\", \"15/04/2018\", \"05/12/2017\", \"22/11/2016\", \"11/11/2015\", \"13/05/2015\", \"27/08/2015\"], \"Ship Date\": [\"11/11/2017\", \"16/06/2017\", \"18/10/2016\", \"14/06/2015\", \"20/04/2018\", \"10/12/2017\", \"26/11/2016\", \"18/11/2015\", \"15/05/2015\", \"01/09/2015\"], \"Ship Mode\": [\"Second Class\", \"Standard Class\", \"First Class\", \"Same Day\"], \"Customer ID\": [\"CG-12520\", \"DV-13045\", \"SO-20335\", \"BH-11710\", \"AA-10480\", \"IM-15070\", \"HP-14815\", \"PK-19075\", \"AG-10270\", \"ZD-21925\"], \"Customer Name\": [\"Claire Gute\", \"Darrin Van Huff\", \"Sean O'Donnell\", \"Brosina Hoffman\", \"Andrew Allen\", \"Irene Maddox\", \"Harold Pawlan\", \"Pete Kriz\", \"Alejandro Grove\", \"Zuschuss Donatelli\"], \"Segment\": [\"Consumer\", \"Corporate\", \"Home Office\"], \"Country\": [\"United States\"], \"City\": [\"Henderson\", \"Los Angeles\", \"Fort Lauderdale\", \"Concord\", \"Seattle\", \"Fort Worth\", \"Madison\", \"West Jordan\", \"San Francisco\", \"Fremont\"], \"State\": [\"Kentucky\", \"California\", \"Florida\", \"North Carolina\", \"Washington\", \"Texas\", \"Wisconsin\", \"Utah\", \"Nebraska\", \"Pennsylvania\"], \"Postal Code\": [\"42420\", \"90036\", \"33311\", \"90032\", \"28027\", \"98103\", \"76106\", \"53711\", \"84084\", \"94109\"], \"Region\": [\"South\", \"West\", \"Central\", \"East\"], \"Product ID\": [\"FUR-BO-10001798\", \"FUR-CH-10000454\", \"OFF-LA-10000240\", \"FUR-TA-10000577\", \"OFF-ST-10000760\", \"FUR-FU-10001487\", \"OFF-AR-10002833\", \"TEC-PH-10002275\", \"OFF-BI-10003910\", \"OFF-AP-10002892\"], \"Category\": [\"Furniture\", \"Office Supplies\", \"Technology\"], \"Sub-Category\": [\"Bookcases\", \"Chairs\", \"Labels\", \"Tables\", \"Storage\", \"Furnishings\", \"Art\", \"Phones\", \"Binders\", \"Appliances\"], \"Product Name\": [\"Bush Somerset Collection Bookcase\", \"Hon Deluxe Fabric Upholstered Stacking Chairs, Rounded Back\", \"Self-Adhesive Address Labels for Typewriters by Universal\", \"Bretford CR4500 Series Slim Rectangular Table\", \"Eldon Fold 'N Roll Cart System\", \"Eldon Expressions Wood and Plastic Desk Accessories, Cherry Wood\", \"Newell 322\", \"Mitel 5320 IP Phone VoIP phone\", \"DXL Angle-View Binders with Locking Rings by Samsill\", \"Belkin F5C206VTEL 6 Outlet Surge\"], \"Sales\": [\"261.96\", \"731.94\", \"14.62\", \"957.5775\", \"22.368\", \"48.86\", \"7.28\", \"907.152\", \"18.504\", \"114.9\"]}}\n",
    "def input_1(schema):\n",
    "    # craete a string like table1: column1, column2, column3.. | table2: column1, column2, column3..\n",
    "    # this string will be used to create the dropdown menu\n",
    "    string = ''\n",
    "    for table in schema:\n",
    "        string += table + ': '\n",
    "        for column in schema[table]:\n",
    "            string += column + ', '\n",
    "        # if there is only one table in the database, dont add the | character  at the end\n",
    "        if len(schema) > 1:\n",
    "            string = string + ' | '\n",
    "        else:\n",
    "            string = string\n",
    "    return string\n",
    "\n",
    "def input_2(schema):\n",
    "    # create a string like column1: distinct_value1, distinct_value2, distinct_value3.. | column2: distinct_value1, distinct_value2, distinct_value3..\n",
    "    # this string will be used to create the dropdown menu\n",
    "    string = ''\n",
    "    for table in schema:\n",
    "        for column in schema[table]:\n",
    "            string += column + ': '\n",
    "            for value in schema[table][column]:\n",
    "                string += value + ', '\n",
    "            string = string + ' | '\n",
    "    return string\n",
    "\n",
    "\n",
    "\n",
    "\n",
    "\n",
    "\n",
    "\n",
    "# Get the schema\n",
    "schema = get_schema(conn)\n",
    "\n",
    "# Save the schema in a json file\n",
    "with open('schema.json', 'w') as f:\n",
    "    json.dump(schema, f)\n",
    "\n",
    "print(input_1(schema))\n",
    "\n",
    "print(input_2(schema))\n",
    "\n",
    "# Close the connection\n",
    "conn.close()"
   ]
  },
  {
   "cell_type": "code",
   "execution_count": null,
   "metadata": {},
   "outputs": [],
   "source": []
  }
 ],
 "metadata": {
  "kernelspec": {
   "display_name": "Python 3",
   "language": "python",
   "name": "python3"
  },
  "language_info": {
   "codemirror_mode": {
    "name": "ipython",
    "version": 3
   },
   "file_extension": ".py",
   "mimetype": "text/x-python",
   "name": "python",
   "nbconvert_exporter": "python",
   "pygments_lexer": "ipython3",
   "version": "3.10.7"
  },
  "orig_nbformat": 4,
  "vscode": {
   "interpreter": {
    "hash": "c1f682f24181e02bec5294285fb1c175cb07785bd2390f987c80770a76d37385"
   }
  }
 },
 "nbformat": 4,
 "nbformat_minor": 2
}
