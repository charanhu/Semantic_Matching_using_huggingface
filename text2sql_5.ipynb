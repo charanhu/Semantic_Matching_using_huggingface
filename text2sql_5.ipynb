{
 "cells": [
  {
   "cell_type": "code",
   "execution_count": null,
   "metadata": {},
   "outputs": [],
   "source": [
    "# text to sql\n",
    "\n",
    "from transformers import AutoTokenizer, AutoModelForSeq2SeqLM\n",
    "\n",
    "# Load the model and tokenizer\n",
    "tokenizer = AutoTokenizer.from_pretrained(\"tscholak/3vnuv1vf\")\n",
    "model = AutoModelForSeq2SeqLM.from_pretrained(\"tscholak/3vnuv1vf\")\n",
    "\n",
    "# Tokenize the input text\n",
    "input_text = \"list names of film released in 2018 and rating more than 6? | IMDB | Movie: rating, year, title\"\n",
    "input_ids = tokenizer.encode(input_text, return_tensors=\"pt\")\n",
    "\n",
    "# Generate the output\n",
    "output = model.generate(input_ids, max_length=128, num_beams=4, early_stopping=True)\n",
    "\n",
    "# Decode the output\n",
    "output_text = tokenizer.decode(output[0], skip_special_tokens=True)\n",
    "print(output_text)\n",
    "# Output: IMDB | select title from movie where rating > 6 and year = 2018\n",
    "\n",
    "# split the output into two parts (sql and table name)\n",
    "output_text = output_text.split(\"|\")\n",
    "sql = output_text[1].strip()\n",
    "\n",
    "# print the sql\n",
    "print(sql)\n"
   ]
  },
  {
   "cell_type": "code",
   "execution_count": null,
   "metadata": {},
   "outputs": [],
   "source": []
  }
 ],
 "metadata": {
  "kernelspec": {
   "display_name": "Python 3",
   "language": "python",
   "name": "python3"
  },
  "language_info": {
   "codemirror_mode": {
    "name": "ipython",
    "version": 3
   },
   "file_extension": ".py",
   "mimetype": "text/x-python",
   "name": "python",
   "nbconvert_exporter": "python",
   "pygments_lexer": "ipython3",
   "version": "3.10.7 (tags/v3.10.7:6cc6b13, Sep  5 2022, 14:08:36) [MSC v.1933 64 bit (AMD64)]"
  },
  "orig_nbformat": 4,
  "vscode": {
   "interpreter": {
    "hash": "c1f682f24181e02bec5294285fb1c175cb07785bd2390f987c80770a76d37385"
   }
  }
 },
 "nbformat": 4,
 "nbformat_minor": 2
}
