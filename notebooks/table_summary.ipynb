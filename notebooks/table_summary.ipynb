{
 "cells": [
  {
   "cell_type": "code",
   "execution_count": null,
   "metadata": {},
   "outputs": [],
   "source": [
    "import pandas as pd\n",
    "from transformers import AutoTokenizer, AutoModelForSeq2SeqLM\n",
    "\n",
    "\n",
    "# fine tuning hugging face model to summarize the table data or tabular data using T5 model\n",
    "\n",
    "# load the model and tokenizer\n",
    "tokenizer = AutoTokenizer.from_pretrained(\"t5-base\")\n",
    "model = AutoModelForSeq2SeqLM.from_pretrained(\"t5-base\")\n",
    "\n",
    "# load the data\n",
    "df = pd.read_csv(\"https://raw.githubusercontent.com/priya-dwivedi/Deep-Learning/master/data/india-news-headlines.csv\")\n",
    "df = df.head(1000)\n",
    "\n",
    "def get_summary(text):\n",
    "    preprocess_text = text.strip().replace(\" \" , \" \").replace(\" \" , \" \").replace(\" \" , \" \") # remove extra spaces\n",
    "    t5_prepared_Text = \"summarize: \" + preprocess_text\n",
    "    print(\"original text preprocessed: \\n\", preprocess_text)\n",
    "\n",
    "    tokenized_text = tokenizer.encode(t5_prepared_Text, return_tensors=\"pt\").to(\"cuda\")\n",
    "\n",
    "    # summmarize\n",
    "    summary_ids = model.generate(tokenized_text,\n",
    "                                num_beams=4,\n",
    "                                no_repeat_ngram_size=2,\n",
    "                                min_length=30,\n",
    "                                max_length=100,\n",
    "                                early_stopping=True)\n",
    "\n",
    "    output = tokenizer.decode(summary_ids[0], skip_special_tokens=True)\n",
    "    print(\"Summarized text: \\n\", output)\n",
    "    return output\n",
    "\n",
    "df[\"summary\"] = df[\"headline_text\"].apply(lambda x: get_summary(x))\n",
    "\n",
    "# save the data\n",
    "df.to_csv(\"news_summary.csv\", index=False)\n",
    "\n",
    "# load the data\n",
    "df = pd.read_csv(\"news_summary.csv\")\n",
    "df.head()\n",
    "\n",
    "# original text preprocessed:\n",
    "#  2 killed in clash between supporters of rival candidates in poll-bound madhya pradesh"
   ]
  }
 ],
 "metadata": {
  "kernelspec": {
   "display_name": "base",
   "language": "python",
   "name": "python3"
  },
  "language_info": {
   "name": "python",
   "version": "3.9.12 (main, Apr  4 2022, 05:22:27) [MSC v.1916 64 bit (AMD64)]"
  },
  "orig_nbformat": 4,
  "vscode": {
   "interpreter": {
    "hash": "f8dfc8609dd5180df3f92c99aa3a5777dcce9aad48aad7f045d6c2f519bdbe44"
   }
  }
 },
 "nbformat": 4,
 "nbformat_minor": 2
}
